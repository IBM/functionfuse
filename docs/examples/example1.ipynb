{
 "cells": [
  {
   "attachments": {},
   "cell_type": "markdown",
   "id": "dee6f0d4",
   "metadata": {},
   "source": [
    "# Basic ML example\n",
    "\n",
    "Here, we reimplement sklearn [example](https://scikit-learn.org/stable/auto_examples/linear_model/plot_sparse_logistic_regression_mnist.html#sphx-glr-auto-examples-linear-model-plot-sparse-logistic-regression-mnist-py) as Function Fuse workflow .\n",
    "\n",
    "## The workflow"
   ]
  },
  {
   "cell_type": "code",
   "execution_count": 1,
   "id": "c35fc26e",
   "metadata": {},
   "outputs": [],
   "source": [
    "\n",
    "\n",
    "from functionfuse import workflow\n",
    "from functionfuse.backends.builtin.localback import LocalWorkflow\n",
    "from functionfuse.storage import storage_factory\n",
    "\n",
    "\n",
    "\n",
    "@workflow\n",
    "def openml_dataset():\n",
    "    from sklearn.datasets import fetch_openml\n",
    "    from sklearn.utils import check_random_state\n",
    "\n",
    "    X, y = fetch_openml(\"mnist_784\", version=1, return_X_y=True, as_frame=False, parser=\"pandas\")\n",
    "    random_state = check_random_state(0)\n",
    "    permutation = random_state.permutation(X.shape[0])\n",
    "    X = X[permutation]\n",
    "    y = y[permutation]\n",
    "    X = X.reshape((X.shape[0], -1))\n",
    "    return X, y\n",
    "\n",
    "\n",
    "@workflow\n",
    "def train_test_split(X, y, train_samples, test_size):\n",
    "    from sklearn.model_selection import train_test_split\n",
    "\n",
    "    X_train, X_test, y_train, y_test = train_test_split(\n",
    "        X, y, train_size=train_samples, test_size=test_size\n",
    "    )\n",
    "    return {\"X_train\": X_train, \"X_test\": X_test, \"y_train\": y_train, \"y_test\": y_test}\n",
    "\n",
    "@workflow\n",
    "def train_model(X, y):\n",
    "    from sklearn.preprocessing import StandardScaler\n",
    "    from sklearn.pipeline import make_pipeline\n",
    "    from sklearn.linear_model import LogisticRegression\n",
    "\n",
    "    train_samples = len(X)\n",
    "    clf = make_pipeline(StandardScaler(), LogisticRegression(C=50.0 / train_samples, penalty=\"l1\", solver=\"saga\", tol=0.1))\n",
    "    clf.fit(X, y)\n",
    "    return clf\n",
    "\n",
    "\n",
    "dataset = openml_dataset().set_name(\"dataset\")\n",
    "X, y = dataset[0], dataset[1]\n",
    "dataset_split = train_test_split(X, y, train_samples = 5000, test_size = 10000).set_name(\"dataset_split\")\n",
    "model = train_model(dataset_split[\"X_train\"], dataset_split[\"y_train\"]).set_name(\"model\")\n",
    "\n",
    "local_workflow = LocalWorkflow(dataset, workflow_name=\"classifier\")\n",
    "opt = {\n",
    "    \"kind\": \"file\",\n",
    "    \"options\": {\n",
    "        \"path\": \"storage\"\n",
    "    }\n",
    "}\n",
    "storage = storage_factory(opt)\n",
    "local_workflow.set_storage(storage)\n",
    "_ = local_workflow.run()\n"
   ]
  },
  {
   "attachments": {},
   "cell_type": "markdown",
   "id": "cab1fc47",
   "metadata": {},
   "source": [
    "## Model Prediction\n",
    "\n",
    "The code above is designed to train models and save the workflow data in the storage. Typically this code should be placed in a separate Python module. We placed the workflow code in the Jupyter Notebook for demonstration purposes only. Final model analysis and data visualization are performed from the stored data in the Jupyter Notebook as shown below."
   ]
  },
  {
   "cell_type": "code",
   "execution_count": 2,
   "id": "225a0031",
   "metadata": {},
   "outputs": [
    {
     "name": "stdout",
     "output_type": "stream",
     "text": [
      "All graph node names: \n",
      "['dataset', 'dataset_split', 'model']\n"
     ]
    }
   ],
   "source": [
    "import pprint\n",
    "from functionfuse.storage import storage_factory\n",
    "\n",
    "the_workflow_name = \"classifier\"\n",
    "storage_path = \"storage\"\n",
    "opt = {\n",
    "    \"kind\": \"file\",\n",
    "    \"options\": {\n",
    "        \"path\": storage_path\n",
    "    }\n",
    "}\n",
    "storage = storage_factory(opt)\n",
    "all_tasks = storage.list_tasks(workflow_name=the_workflow_name, pattern=\"*\")\n",
    "\n",
    "pp = pprint.PrettyPrinter(width=141, compact=True)\n",
    "print(\"All graph node names: \")\n",
    "pp.pprint(all_tasks)"
   ]
  },
  {
   "cell_type": "code",
   "execution_count": 3,
   "id": "5e8dcb15",
   "metadata": {},
   "outputs": [
    {
     "name": "stdout",
     "output_type": "stream",
     "text": [
      "Sparsity with L1 penalty: 76.73%\n",
      "Test score with L1 penalty: 0.8228\n"
     ]
    },
    {
     "data": {
      "text/plain": [
       "Text(0.5, 0.98, 'Classification vector for...')"
      ]
     },
     "execution_count": 3,
     "metadata": {},
     "output_type": "execute_result"
    },
    {
     "data": {
      "image/png": "[encoded data removed]",
      "text/plain": [
       "<Figure size 1000x500 with 10 Axes>"
      ]
     },
     "metadata": {},
     "output_type": "display_data"
    }
   ],
   "source": [
    "import numpy as np\n",
    "import matplotlib.pyplot as plt\n",
    "\n",
    "clf = storage.read_task(workflow_name=the_workflow_name, task_name=\"model\")\n",
    "dataset_split = storage.read_task(workflow_name=the_workflow_name,  task_name=\"dataset_split\")\n",
    "X_test, y_test = dataset_split[\"X_test\"], dataset_split[\"y_test\"]\n",
    "\n",
    "lr = clf.named_steps[\"logisticregression\"]\n",
    "\n",
    "sparsity = np.mean(lr.coef_ == 0) * 100\n",
    "score = clf.score(X_test, y_test)\n",
    "# print('Best C % .4f' % clf.C_)\n",
    "print(\"Sparsity with L1 penalty: %.2f%%\" % sparsity)\n",
    "print(\"Test score with L1 penalty: %.4f\" % score)\n",
    " \n",
    "\n",
    "\n",
    "coef = lr.coef_.copy()\n",
    "plt.figure(figsize=(10, 5))\n",
    "scale = np.abs(coef).max()\n",
    "for i in range(10):\n",
    "    l1_plot = plt.subplot(2, 5, i + 1)\n",
    "    l1_plot.imshow(\n",
    "        coef[i].reshape(28, 28),\n",
    "        interpolation=\"nearest\",\n",
    "        cmap=plt.cm.RdBu,\n",
    "        vmin=-scale,\n",
    "        vmax=scale,\n",
    "    )\n",
    "    l1_plot.set_xticks(())\n",
    "    l1_plot.set_yticks(())\n",
    "    l1_plot.set_xlabel(\"Class %i\" % i)\n",
    "plt.suptitle(\"Classification vector for...\")"
   ]
  }
 ],
 "metadata": {
  "kernelspec": {
   "display_name": "Python 3 (ipykernel)",
   "language": "python",
   "name": "python3"
  },
  "language_info": {
   "codemirror_mode": {
    "name": "ipython",
    "version": 3
   },
   "file_extension": ".py",
   "mimetype": "text/x-python",
   "name": "python",
   "nbconvert_exporter": "python",
   "pygments_lexer": "ipython3",
   "version": "3.9.15"
  }
 },
 "nbformat": 4,
 "nbformat_minor": 5
}
