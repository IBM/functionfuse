{
 "cells": [
  {
   "cell_type": "code",
   "execution_count": null,
   "id": "225a0031",
   "metadata": {},
   "outputs": [],
   "source": [
    "import pprint, os\n",
    "from functionfuse.storage import storage_factory\n",
    "\n",
    "the_workflow_name = \"classifier\"\n",
    "\n",
    "\n",
    "ray_init_args = {\n",
    "    \"resources\": {\"_disk\": 1}\n",
    "}\n",
    "\n",
    "remote_args = {\n",
    "    \"resources\": {\"_disk\": 0.001}\n",
    "}\n",
    "\n",
    "storage_path = os.path.join(os.getcwd(), \"storage\")\n",
    "opt = {\n",
    "    \"kind\": \"ray\",\n",
    "    \"options\": {\n",
    "        \"rayInitArgs\": ray_init_args,\n",
    "        \"remoteArgs\": remote_args,\n",
    "        \"path\": storage_path,\n",
    "    }\n",
    "}\n",
    "\n",
    "storage = storage_factory(opt)\n",
    "all_tasks = storage.list_tasks(workflow_name=the_workflow_name, pattern=\"*\")\n",
    "\n",
    "pp = pprint.PrettyPrinter(width=141, compact=True)\n",
    "print(\"All graph node names: \")\n",
    "pp.pprint(all_tasks)"
   ]
  },
  {
   "cell_type": "code",
   "execution_count": null,
   "id": "5e8dcb15",
   "metadata": {},
   "outputs": [],
   "source": [
    "import numpy as np\n",
    "import matplotlib.pyplot as plt\n",
    "\n",
    "clf = storage.read_task(workflow_name=the_workflow_name, task_name=\"model\")\n",
    "dataset_split = storage.read_task(workflow_name=the_workflow_name,  task_name=\"dataset_split\")\n",
    "X_test, y_test = dataset_split[\"X_test\"], dataset_split[\"y_test\"]\n",
    "\n",
    "lr = clf.named_steps[\"logisticregression\"]\n",
    "\n",
    "sparsity = np.mean(lr.coef_ == 0) * 100\n",
    "score = clf.score(X_test, y_test)\n",
    "# print('Best C % .4f' % clf.C_)\n",
    "print(\"Sparsity with L1 penalty: %.2f%%\" % sparsity)\n",
    "print(\"Test score with L1 penalty: %.4f\" % score)\n",
    " \n",
    "\n",
    "\n",
    "coef = lr.coef_.copy()\n",
    "plt.figure(figsize=(10, 5))\n",
    "scale = np.abs(coef).max()\n",
    "for i in range(10):\n",
    "    l1_plot = plt.subplot(2, 5, i + 1)\n",
    "    l1_plot.imshow(\n",
    "        coef[i].reshape(28, 28),\n",
    "        interpolation=\"nearest\",\n",
    "        cmap=plt.cm.RdBu,\n",
    "        vmin=-scale,\n",
    "        vmax=scale,\n",
    "    )\n",
    "    l1_plot.set_xticks(())\n",
    "    l1_plot.set_yticks(())\n",
    "    l1_plot.set_xlabel(\"Class %i\" % i)\n",
    "plt.suptitle(\"Classification vector for...\")"
   ]
  },
  {
   "cell_type": "code",
   "execution_count": null,
   "id": "e8bec08a",
   "metadata": {},
   "outputs": [],
   "source": []
  }
 ],
 "metadata": {
  "kernelspec": {
   "display_name": "Python 3 (ipykernel)",
   "language": "python",
   "name": "python3"
  },
  "language_info": {
   "codemirror_mode": {
    "name": "ipython",
    "version": 3
   },
   "file_extension": ".py",
   "mimetype": "text/x-python",
   "name": "python",
   "nbconvert_exporter": "python",
   "pygments_lexer": "ipython3",
   "version": "3.9.15"
  }
 },
 "nbformat": 4,
 "nbformat_minor": 5
}
