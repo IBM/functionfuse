{
 "cells": [
  {
   "attachments": {},
   "cell_type": "markdown",
   "id": "b1ca0531",
   "metadata": {},
   "source": [
    "First, we create the storage object and list all node names for workflow name \"classifiers\":"
   ]
  },
  {
   "cell_type": "code",
   "execution_count": null,
   "id": "a2ffa65a",
   "metadata": {},
   "outputs": [],
   "source": [
    "import os, pprint\n",
    "from functionfuse.storage import storage_factory\n",
    "\n",
    "the_workflow_name = \"classifiers\"\n",
    "storage_path = \"storage\"\n",
    "opt = {\n",
    "    \"kind\": \"file\",\n",
    "    \"options\": {\n",
    "        \"path\": storage_path\n",
    "    }\n",
    "}\n",
    "storage = storage_factory(opt)\n",
    "all_tasks = storage.list_tasks(workflow_name=the_workflow_name, pattern=\"*\")\n",
    "\n",
    "pp = pprint.PrettyPrinter(width=141, compact=True)\n",
    "print(\"All graph node names: \")\n",
    "pp.pprint(all_tasks)"
   ]
  },
  {
   "attachments": {},
   "cell_type": "markdown",
   "id": "5a3f1fcd",
   "metadata": {},
   "source": [
    "We extract names of datasets and trained models from the node names in our toy problem. In real-world workflows, we would use \"hyperparameter nodes\" and \"metadata nodes\" for that proposes."
   ]
  },
  {
   "cell_type": "code",
   "execution_count": null,
   "id": "2a187a66",
   "metadata": {},
   "outputs": [],
   "source": [
    "models = storage.list_tasks(workflow_name=\"classifiers\", pattern=\"*model\")\n",
    "models.sort()\n",
    "print(\"Trained models:\")\n",
    "pp.pprint(models)\n",
    "datasets = [i.split(\",\")[0] for i in models]\n",
    "print(\"Datasets:\")\n",
    "pp.pprint(datasets)\n",
    "model_names = [i.split(\",\")[1].strip() for i in models]\n",
    "print(\"Model names:\")\n",
    "pp.pprint(model_names)"
   ]
  },
  {
   "attachments": {},
   "cell_type": "markdown",
   "id": "a5adfcc6",
   "metadata": {},
   "source": [
    "Finally, we read node results and plot them."
   ]
  },
  {
   "cell_type": "code",
   "execution_count": null,
   "id": "919000f6",
   "metadata": {},
   "outputs": [],
   "source": [
    "import matplotlib.pyplot as plt\n",
    "from matplotlib.colors import ListedColormap\n",
    "from sklearn.inspection import DecisionBoundaryDisplay\n",
    "\n",
    "cm = plt.cm.RdBu\n",
    "cm_bright = ListedColormap([\"#FF0000\", \"#0000FF\"])\n",
    "figure = plt.figure(figsize=(27, 9))\n",
    "n_rows, n_cols = len(set(datasets)), len(set(model_names))\n",
    "\n",
    "index = 0\n",
    "for index, (model_name, model, dataset) in enumerate(zip(model_names, models, datasets)):\n",
    "    \n",
    "    X, _ = storage.read_task(workflow_name=the_workflow_name, task_name=f\"{dataset}_samples\")\n",
    "    split = storage.read_task(workflow_name=the_workflow_name, task_name=f\"{dataset}_split\")\n",
    "    X_train, y_train, X_test, y_test = split[\"X_train\"], split[\"y_train\"], split[\"X_test\"], split[\"y_test\"]\n",
    "    trained_model = storage.read_task(workflow_name=the_workflow_name, task_name=model)\n",
    "    score = trained_model.score(X_test, y_test)\n",
    "    x_min, x_max = X[:, 0].min() - 0.5, X[:, 0].max() + 0.5\n",
    "    y_min, y_max = X[:, 1].min() - 0.5, X[:, 1].max() + 0.5\n",
    "\n",
    "\n",
    "\n",
    "    ax = plt.subplot(n_rows, n_cols, index + 1)\n",
    "    ax.scatter(X_train[:, 0], X_train[:, 1], c=y_train, cmap=cm_bright, edgecolors=\"k\")\n",
    "    ax.scatter(X_test[:, 0], X_test[:, 1], c=y_test, cmap=cm_bright, alpha=0.6, edgecolors=\"k\")\n",
    "    ax.set_xlim(x_min, x_max)\n",
    "    ax.set_ylim(y_min, y_max)\n",
    "    ax.set_xticks(())\n",
    "    ax.set_yticks(())\n",
    "    DecisionBoundaryDisplay.from_estimator(trained_model, X, cmap=cm, alpha=0.8, ax=ax, eps=0.5)\n",
    "\n",
    "    ax.scatter(X_train[:, 0], X_train[:, 1], c=y_train, cmap=cm_bright, edgecolors=\"k\")\n",
    "    ax.scatter(X_test[:, 0], X_test[:, 1], c=y_test, cmap=cm_bright, edgecolors=\"k\", alpha=0.6)\n",
    "\n",
    "    ax.set_xlim(x_min, x_max)\n",
    "    ax.set_ylim(y_min, y_max)\n",
    "    if index < n_cols:\n",
    "        ax.set_title(model_name)\n",
    "    ax.text(x_max - 0.3, y_min + 0.3, (\"%.2f\" % score).lstrip(\"0\"), size=15, horizontalalignment=\"right\")\n",
    "\n",
    "\n"
   ]
  }
 ],
 "metadata": {
  "kernelspec": {
   "display_name": "Python 3 (ipykernel)",
   "language": "python",
   "name": "python3"
  },
  "language_info": {
   "codemirror_mode": {
    "name": "ipython",
    "version": 3
   },
   "file_extension": ".py",
   "mimetype": "text/x-python",
   "name": "python",
   "nbconvert_exporter": "python",
   "pygments_lexer": "ipython3",
   "version": "3.9.15"
  }
 },
 "nbformat": 4,
 "nbformat_minor": 5
}
