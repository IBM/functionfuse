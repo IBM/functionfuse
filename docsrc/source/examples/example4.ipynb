{
 "cells": [
  {
   "attachments": {},
   "cell_type": "markdown",
   "id": "6900b762",
   "metadata": {},
   "source": [
    "# Basic ML example (Prefect Workflow)\n",
    "\n",
    "Here, we use the PrefectWorkflow backend for the Basic ML example. Again, we reimplement sklearn [example](https://scikit-learn.org/stable/auto_examples/linear_model/plot_sparse_logistic_regression_mnist.html#sphx-glr-auto-examples-linear-model-plot-sparse-logistic-regression-mnist-py) as Function Fuse workflow, using identical frontend workflow definition as in the LocalWorkflow and RayWorkflow examples, but providing Prefect-specific options in the backend.\n",
    "\n",
    "We can optionally activate a Prefect server to view information about workflow runs in a browser:\n",
    "\n",
    "```console\n",
    "$ prefect server start\n",
    "```"
   ]
  },
  {
   "attachments": {},
   "cell_type": "markdown",
   "id": "3c9f7325",
   "metadata": {},
   "source": [
    "## The workflow"
   ]
  },
  {
   "cell_type": "code",
   "execution_count": 6,
   "id": "c843a80a",
   "metadata": {},
   "outputs": [
    {
     "name": "stdout",
     "output_type": "stream",
     "text": [
      "<class 'prefect.flows.Flow'>\n"
     ]
    },
    {
     "name": "stderr",
     "output_type": "stream",
     "text": [
      "/home/hm/miniconda3/envs/pytorch_cuda/lib/python3.10/site-packages/prefect/flows.py:244: UserWarning: A flow named 'classifier' and defined at '/home/hm/CardiacFilament/functionfuse/functionfuse/backends/addons/prefectback.py:134' conflicts with another flow. Consider specifying a unique `name` parameter in the flow definition:\n",
      "\n",
      " `@flow(name='my_unique_name', ...)`\n",
      "  warnings.warn(\n"
     ]
    }
   ],
   "source": [
    "from functionfuse import workflow\n",
    "from functionfuse.backends.addons.prefectback import PrefectWorkflow\n",
    "from functionfuse.storage import storage_factory\n",
    "\n",
    "import os\n",
    "\n",
    "\n",
    "# Frontend\n",
    "\n",
    "@workflow\n",
    "def openml_dataset():\n",
    "    from sklearn.datasets import fetch_openml\n",
    "    from sklearn.utils import check_random_state\n",
    "\n",
    "    X, y = fetch_openml(\"mnist_784\", version=1, return_X_y=True, as_frame=False, parser=\"pandas\")\n",
    "    random_state = check_random_state(0)\n",
    "    permutation = random_state.permutation(X.shape[0])\n",
    "    X = X[permutation]\n",
    "    y = y[permutation]\n",
    "    X = X.reshape((X.shape[0], -1))\n",
    "    return X, y\n",
    "\n",
    "\n",
    "@workflow\n",
    "def train_test_split(X, y, train_samples, test_size):\n",
    "    from sklearn.model_selection import train_test_split\n",
    "\n",
    "    X_train, X_test, y_train, y_test = train_test_split(\n",
    "        X, y, train_size=train_samples, test_size=test_size\n",
    "    )\n",
    "    return {\"X_train\": X_train, \"X_test\": X_test, \"y_train\": y_train, \"y_test\": y_test}\n",
    "\n",
    "@workflow\n",
    "def train_model(X, y):\n",
    "    from sklearn.preprocessing import StandardScaler\n",
    "    from sklearn.pipeline import make_pipeline\n",
    "    from sklearn.linear_model import LogisticRegression\n",
    "\n",
    "    train_samples = len(X)\n",
    "    clf = make_pipeline(StandardScaler(), LogisticRegression(C=50.0 / train_samples, penalty=\"l1\", solver=\"saga\", tol=0.1))\n",
    "    clf.fit(X, y)\n",
    "    return clf\n",
    "\n",
    "\n",
    "dataset = openml_dataset().set_name(\"dataset\")\n",
    "X, y = dataset[0], dataset[1]\n",
    "dataset_split = train_test_split(X, y, train_samples = 5000, test_size = 10000).set_name(\"dataset_split\")\n",
    "model = train_model(dataset_split[\"X_train\"], dataset_split[\"y_train\"]).set_name(\"model\")\n",
    "\n",
    "\n",
    "# Prefect Backend\n",
    "\n",
    "# Example of specifying a task_runner\n",
    "from prefect.task_runners import SequentialTaskRunner, ConcurrentTaskRunner\n",
    "prefect_flow_args = {\n",
    "    \"description\": \"Basic ML workflow from sklearn\",\n",
    "    \"task_runner\": ConcurrentTaskRunner()\n",
    "}\n",
    "\n",
    "prefect_workflow = PrefectWorkflow(dataset, workflow_name=\"classifier\")\n",
    "opt = {\n",
    "    \"kind\": \"file\",\n",
    "    \"options\": {\n",
    "        \"path\": \"storage\"\n",
    "    }\n",
    "}\n",
    "storage = storage_factory(opt)\n",
    "# prefect_workflow.set_storage(storage)\n",
    "\n",
    "# Example of setting Prefect Task options for a specific Node\n",
    "from prefect.tasks import task_input_hash\n",
    "prefect_workflow.query(pattern=\"^model$\").set_task_args({\"cache_key_fn\": task_input_hash})\n",
    "\n",
    "# Optionally create the Prefect Flow prior to running:\n",
    "prefect_workflow.generate_flow()\n",
    "print(type(prefect_workflow.flow))"
   ]
  },
  {
   "cell_type": "code",
   "execution_count": 7,
   "id": "132dac43",
   "metadata": {},
   "outputs": [
    {
     "data": {
      "text/html": [
       "<pre style=\"white-space:pre;overflow-x:auto;line-height:normal;font-family:Menlo,'DejaVu Sans Mono',consolas,'Courier New',monospace\">16:58:07.160 | <span style=\"color: #008080; text-decoration-color: #008080\">INFO</span>    | prefect.engine - Created flow run<span style=\"color: #800080; text-decoration-color: #800080\"> 'fortunate-stingray'</span> for flow<span style=\"color: #800080; text-decoration-color: #800080; font-weight: bold\"> 'classifier'</span>\n",
       "</pre>\n"
      ],
      "text/plain": [
       "16:58:07.160 | \u001b[36mINFO\u001b[0m    | prefect.engine - Created flow run\u001b[35m 'fortunate-stingray'\u001b[0m for flow\u001b[1;35m 'classifier'\u001b[0m\n"
      ]
     },
     "metadata": {},
     "output_type": "display_data"
    },
    {
     "name": "stderr",
     "output_type": "stream",
     "text": [
      "/home/hm/miniconda3/envs/pytorch_cuda/lib/python3.10/site-packages/prefect/tasks.py:298: UserWarning: A task named 'openml_dataset' and defined at '/tmp/ipykernel_10727/1591802011.py:10' conflicts with another task. Consider specifying a unique `name` parameter in the task definition:\n",
      "\n",
      " `@task(name='my_unique_name', ...)`\n",
      "  warnings.warn(\n"
     ]
    },
    {
     "data": {
      "text/html": [
       "<pre style=\"white-space:pre;overflow-x:auto;line-height:normal;font-family:Menlo,'DejaVu Sans Mono',consolas,'Courier New',monospace\">16:58:07.293 | <span style=\"color: #008080; text-decoration-color: #008080\">INFO</span>    | Flow run<span style=\"color: #800080; text-decoration-color: #800080\"> 'fortunate-stingray'</span> - Created task run 'openml_dataset-0' for task 'openml_dataset'\n",
       "</pre>\n"
      ],
      "text/plain": [
       "16:58:07.293 | \u001b[36mINFO\u001b[0m    | Flow run\u001b[35m 'fortunate-stingray'\u001b[0m - Created task run 'openml_dataset-0' for task 'openml_dataset'\n"
      ]
     },
     "metadata": {},
     "output_type": "display_data"
    },
    {
     "data": {
      "text/html": [
       "<pre style=\"white-space:pre;overflow-x:auto;line-height:normal;font-family:Menlo,'DejaVu Sans Mono',consolas,'Courier New',monospace\">16:58:07.296 | <span style=\"color: #008080; text-decoration-color: #008080\">INFO</span>    | Flow run<span style=\"color: #800080; text-decoration-color: #800080\"> 'fortunate-stingray'</span> - Executing 'openml_dataset-0' immediately...\n",
       "</pre>\n"
      ],
      "text/plain": [
       "16:58:07.296 | \u001b[36mINFO\u001b[0m    | Flow run\u001b[35m 'fortunate-stingray'\u001b[0m - Executing 'openml_dataset-0' immediately...\n"
      ]
     },
     "metadata": {},
     "output_type": "display_data"
    },
    {
     "data": {
      "text/html": [
       "<pre style=\"white-space:pre;overflow-x:auto;line-height:normal;font-family:Menlo,'DejaVu Sans Mono',consolas,'Courier New',monospace\">16:58:16.453 | <span style=\"color: #008080; text-decoration-color: #008080\">INFO</span>    | Task run 'openml_dataset-0' - Finished in state <span style=\"color: #008000; text-decoration-color: #008000\">Completed</span>()\n",
       "</pre>\n"
      ],
      "text/plain": [
       "16:58:16.453 | \u001b[36mINFO\u001b[0m    | Task run 'openml_dataset-0' - Finished in state \u001b[32mCompleted\u001b[0m()\n"
      ]
     },
     "metadata": {},
     "output_type": "display_data"
    },
    {
     "name": "stderr",
     "output_type": "stream",
     "text": [
      "/home/hm/miniconda3/envs/pytorch_cuda/lib/python3.10/site-packages/prefect/tasks.py:298: UserWarning: A task named 'train_test_split' and defined at '/tmp/ipykernel_10727/1591802011.py:24' conflicts with another task. Consider specifying a unique `name` parameter in the task definition:\n",
      "\n",
      " `@task(name='my_unique_name', ...)`\n",
      "  warnings.warn(\n"
     ]
    },
    {
     "data": {
      "text/html": [
       "<pre style=\"white-space:pre;overflow-x:auto;line-height:normal;font-family:Menlo,'DejaVu Sans Mono',consolas,'Courier New',monospace\">16:58:16.486 | <span style=\"color: #008080; text-decoration-color: #008080\">INFO</span>    | Flow run<span style=\"color: #800080; text-decoration-color: #800080\"> 'fortunate-stingray'</span> - Created task run 'train_test_split-0' for task 'train_test_split'\n",
       "</pre>\n"
      ],
      "text/plain": [
       "16:58:16.486 | \u001b[36mINFO\u001b[0m    | Flow run\u001b[35m 'fortunate-stingray'\u001b[0m - Created task run 'train_test_split-0' for task 'train_test_split'\n"
      ]
     },
     "metadata": {},
     "output_type": "display_data"
    },
    {
     "data": {
      "text/html": [
       "<pre style=\"white-space:pre;overflow-x:auto;line-height:normal;font-family:Menlo,'DejaVu Sans Mono',consolas,'Courier New',monospace\">16:58:16.488 | <span style=\"color: #008080; text-decoration-color: #008080\">INFO</span>    | Flow run<span style=\"color: #800080; text-decoration-color: #800080\"> 'fortunate-stingray'</span> - Executing 'train_test_split-0' immediately...\n",
       "</pre>\n"
      ],
      "text/plain": [
       "16:58:16.488 | \u001b[36mINFO\u001b[0m    | Flow run\u001b[35m 'fortunate-stingray'\u001b[0m - Executing 'train_test_split-0' immediately...\n"
      ]
     },
     "metadata": {},
     "output_type": "display_data"
    },
    {
     "data": {
      "text/html": [
       "<pre style=\"white-space:pre;overflow-x:auto;line-height:normal;font-family:Menlo,'DejaVu Sans Mono',consolas,'Courier New',monospace\">16:58:16.614 | <span style=\"color: #008080; text-decoration-color: #008080\">INFO</span>    | Task run 'train_test_split-0' - Finished in state <span style=\"color: #008000; text-decoration-color: #008000\">Completed</span>()\n",
       "</pre>\n"
      ],
      "text/plain": [
       "16:58:16.614 | \u001b[36mINFO\u001b[0m    | Task run 'train_test_split-0' - Finished in state \u001b[32mCompleted\u001b[0m()\n"
      ]
     },
     "metadata": {},
     "output_type": "display_data"
    },
    {
     "name": "stderr",
     "output_type": "stream",
     "text": [
      "/home/hm/miniconda3/envs/pytorch_cuda/lib/python3.10/site-packages/prefect/tasks.py:298: UserWarning: A task named 'train_model' and defined at '/tmp/ipykernel_10727/1591802011.py:33' conflicts with another task. Consider specifying a unique `name` parameter in the task definition:\n",
      "\n",
      " `@task(name='my_unique_name', ...)`\n",
      "  warnings.warn(\n"
     ]
    },
    {
     "data": {
      "text/html": [
       "<pre style=\"white-space:pre;overflow-x:auto;line-height:normal;font-family:Menlo,'DejaVu Sans Mono',consolas,'Courier New',monospace\">16:58:16.645 | <span style=\"color: #008080; text-decoration-color: #008080\">INFO</span>    | Flow run<span style=\"color: #800080; text-decoration-color: #800080\"> 'fortunate-stingray'</span> - Created task run 'train_model-0' for task 'train_model'\n",
       "</pre>\n"
      ],
      "text/plain": [
       "16:58:16.645 | \u001b[36mINFO\u001b[0m    | Flow run\u001b[35m 'fortunate-stingray'\u001b[0m - Created task run 'train_model-0' for task 'train_model'\n"
      ]
     },
     "metadata": {},
     "output_type": "display_data"
    },
    {
     "data": {
      "text/html": [
       "<pre style=\"white-space:pre;overflow-x:auto;line-height:normal;font-family:Menlo,'DejaVu Sans Mono',consolas,'Courier New',monospace\">16:58:16.647 | <span style=\"color: #008080; text-decoration-color: #008080\">INFO</span>    | Flow run<span style=\"color: #800080; text-decoration-color: #800080\"> 'fortunate-stingray'</span> - Executing 'train_model-0' immediately...\n",
       "</pre>\n"
      ],
      "text/plain": [
       "16:58:16.647 | \u001b[36mINFO\u001b[0m    | Flow run\u001b[35m 'fortunate-stingray'\u001b[0m - Executing 'train_model-0' immediately...\n"
      ]
     },
     "metadata": {},
     "output_type": "display_data"
    },
    {
     "data": {
      "text/html": [
       "<pre style=\"white-space:pre;overflow-x:auto;line-height:normal;font-family:Menlo,'DejaVu Sans Mono',consolas,'Courier New',monospace\">16:58:19.180 | <span style=\"color: #008080; text-decoration-color: #008080\">INFO</span>    | Task run 'train_model-0' - Finished in state <span style=\"color: #008000; text-decoration-color: #008000\">Completed</span>()\n",
       "</pre>\n"
      ],
      "text/plain": [
       "16:58:19.180 | \u001b[36mINFO\u001b[0m    | Task run 'train_model-0' - Finished in state \u001b[32mCompleted\u001b[0m()\n"
      ]
     },
     "metadata": {},
     "output_type": "display_data"
    },
    {
     "data": {
      "text/html": [
       "<pre style=\"white-space:pre;overflow-x:auto;line-height:normal;font-family:Menlo,'DejaVu Sans Mono',consolas,'Courier New',monospace\">16:58:19.215 | <span style=\"color: #008080; text-decoration-color: #008080\">INFO</span>    | Flow run<span style=\"color: #800080; text-decoration-color: #800080\"> 'fortunate-stingray'</span> - Finished in state <span style=\"color: #008000; text-decoration-color: #008000\">Completed</span>()\n",
       "</pre>\n"
      ],
      "text/plain": [
       "16:58:19.215 | \u001b[36mINFO\u001b[0m    | Flow run\u001b[35m 'fortunate-stingray'\u001b[0m - Finished in state \u001b[32mCompleted\u001b[0m()\n"
      ]
     },
     "metadata": {},
     "output_type": "display_data"
    }
   ],
   "source": [
    "_ = prefect_workflow.run()"
   ]
  },
  {
   "attachments": {},
   "cell_type": "markdown",
   "id": "35ae3fdf",
   "metadata": {},
   "source": [
    "## Prefect Server\n",
    "\n",
    "A Prefect Flow is created within the functionfuse Workflow, and the Flow Run is \n",
    "logged to the Prefect Server. The Flow name matches the workflow name. Each \n",
    "Node in the functionfuse Workflow becomes a Prefect Task with a name matching\n",
    "the Node.func name.\n",
    "\n",
    "![Flow Run in Prefect Server](images/PrefectServerBasicML.png)"
   ]
  },
  {
   "attachments": {},
   "cell_type": "markdown",
   "id": "f2d7826a",
   "metadata": {},
   "source": [
    "## Model Prediction\n",
    "\n",
    "The code above is designed to train models and save the workflow data in the storage. Typically this code should be placed in a separate Python module. I placed the workflow code in the Jupyter Notebook for demonstration purposes only. Final model analysis and data visualization are performed from the stored data in the Jupyter Notebook as shown below."
   ]
  },
  {
   "cell_type": "code",
   "execution_count": 3,
   "id": "225a0031",
   "metadata": {},
   "outputs": [
    {
     "name": "stdout",
     "output_type": "stream",
     "text": [
      "All graph node names: \n",
      "['dataset', 'dataset_split', 'model']\n"
     ]
    }
   ],
   "source": [
    "import pprint\n",
    "from functionfuse.storage import storage_factory\n",
    "\n",
    "the_workflow_name = \"classifier\"\n",
    "storage_path = \"storage\"\n",
    "opt = {\n",
    "    \"kind\": \"file\",\n",
    "    \"options\": {\n",
    "        \"path\": storage_path\n",
    "    }\n",
    "}\n",
    "storage = storage_factory(opt)\n",
    "all_tasks = storage.list_tasks(workflow_name=the_workflow_name, pattern=\"*\")\n",
    "\n",
    "pp = pprint.PrettyPrinter(width=141, compact=True)\n",
    "print(\"All graph node names: \")\n",
    "pp.pprint(all_tasks)"
   ]
  },
  {
   "cell_type": "code",
   "execution_count": 4,
   "id": "5e8dcb15",
   "metadata": {},
   "outputs": [
    {
     "name": "stdout",
     "output_type": "stream",
     "text": [
      "Sparsity with L1 penalty: 80.24%\n",
      "Test score with L1 penalty: 0.8349\n"
     ]
    },
    {
     "data": {
      "text/plain": [
       "Text(0.5, 0.98, 'Classification vector for...')"
      ]
     },
     "execution_count": 4,
     "metadata": {},
     "output_type": "execute_result"
    },
    {
     "data": {
      "image/png": "[encoded data removed]",
      "text/plain": [
       "<Figure size 1000x500 with 10 Axes>"
      ]
     },
     "metadata": {},
     "output_type": "display_data"
    }
   ],
   "source": [
    "import numpy as np\n",
    "import matplotlib.pyplot as plt\n",
    "\n",
    "clf = storage.read_task(workflow_name=the_workflow_name, task_name=\"model\")\n",
    "dataset_split = storage.read_task(workflow_name=the_workflow_name,  task_name=\"dataset_split\")\n",
    "X_test, y_test = dataset_split[\"X_test\"], dataset_split[\"y_test\"]\n",
    "\n",
    "lr = clf.named_steps[\"logisticregression\"]\n",
    "\n",
    "sparsity = np.mean(lr.coef_ == 0) * 100\n",
    "score = clf.score(X_test, y_test)\n",
    "# print('Best C % .4f' % clf.C_)\n",
    "print(\"Sparsity with L1 penalty: %.2f%%\" % sparsity)\n",
    "print(\"Test score with L1 penalty: %.4f\" % score)\n",
    " \n",
    "\n",
    "\n",
    "coef = lr.coef_.copy()\n",
    "plt.figure(figsize=(10, 5))\n",
    "scale = np.abs(coef).max()\n",
    "for i in range(10):\n",
    "    l1_plot = plt.subplot(2, 5, i + 1)\n",
    "    l1_plot.imshow(\n",
    "        coef[i].reshape(28, 28),\n",
    "        interpolation=\"nearest\",\n",
    "        cmap=plt.cm.RdBu,\n",
    "        vmin=-scale,\n",
    "        vmax=scale,\n",
    "    )\n",
    "    l1_plot.set_xticks(())\n",
    "    l1_plot.set_yticks(())\n",
    "    l1_plot.set_xlabel(\"Class %i\" % i)\n",
    "plt.suptitle(\"Classification vector for...\")"
   ]
  }
 ],
 "metadata": {
  "kernelspec": {
   "display_name": "Python 3 (ipykernel)",
   "language": "python",
   "name": "python3"
  },
  "language_info": {
   "codemirror_mode": {
    "name": "ipython",
    "version": 3
   },
   "file_extension": ".py",
   "mimetype": "text/x-python",
   "name": "python",
   "nbconvert_exporter": "python",
   "pygments_lexer": "ipython3",
   "version": "3.10.8"
  }
 },
 "nbformat": 4,
 "nbformat_minor": 5
}
